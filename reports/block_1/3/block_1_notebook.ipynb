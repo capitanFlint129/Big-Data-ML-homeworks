{
 "cells": [
  {
   "cell_type": "code",
   "execution_count": 2,
   "id": "db82e193-bd0d-4b1a-9c50-14b49c05bf8d",
   "metadata": {},
   "outputs": [],
   "source": [
    "data = \"\"\"\n",
    "data\n",
    "data\n",
    "data\n",
    "data\n",
    "data\n",
    "data\n",
    "data\n",
    "data\n",
    "data\n",
    "datadatadatadatadatadatadatadatadatadatadatadata\n",
    "\"\"\".strip()\n",
    "\n",
    "with open(\"file.txt\", \"w\") as ouf:\n",
    "    ouf.write(data)"
   ]
  },
  {
   "cell_type": "code",
   "execution_count": 4,
   "id": "468a88a8-3e94-405c-9615-9b92ddd84de1",
   "metadata": {},
   "outputs": [],
   "source": [
    "!hadoop fs -mkdir -p /block_1"
   ]
  },
  {
   "cell_type": "code",
   "execution_count": 5,
   "id": "d7d196d4-9df3-43c5-96e7-a003cc3c0689",
   "metadata": {},
   "outputs": [],
   "source": [
    "!hadoop fs -put file.txt /block_1/file.txt"
   ]
  },
  {
   "cell_type": "code",
   "execution_count": 6,
   "id": "5bfa9d00-eb44-43d0-8bcf-c747d94bad36",
   "metadata": {},
   "outputs": [
    {
     "name": "stdout",
     "output_type": "stream",
     "text": [
      "-rw-r--r--   3 root supergroup         93 2023-11-25 13:06 /block_1/file.txt\n"
     ]
    }
   ],
   "source": [
    "!hadoop fs -ls /block_1/file.txt"
   ]
  },
  {
   "cell_type": "code",
   "execution_count": 7,
   "id": "25e23134-1bb3-423d-80fe-81d2966e6f39",
   "metadata": {},
   "outputs": [
    {
     "name": "stdout",
     "output_type": "stream",
     "text": [
      "data\n",
      "data\n",
      "data\n",
      "data\n",
      "data\n",
      "data\n",
      "data\n",
      "data\n",
      "data\n",
      "datadatadatadatadatadatadatadatadatadatadatadata"
     ]
    }
   ],
   "source": [
    "!hadoop fs -cat /block_1/file.txt"
   ]
  },
  {
   "cell_type": "code",
   "execution_count": 8,
   "id": "4abf3d4a-1011-4ad5-bd34-1c78798cda6d",
   "metadata": {},
   "outputs": [
    {
     "name": "stdout",
     "output_type": "stream",
     "text": [
      "Number of Maps  = 15\n",
      "Samples per Map = 1800\n",
      "Wrote input for Map #0\n",
      "Wrote input for Map #1\n",
      "Wrote input for Map #2\n",
      "Wrote input for Map #3\n",
      "Wrote input for Map #4\n",
      "Wrote input for Map #5\n",
      "Wrote input for Map #6\n",
      "Wrote input for Map #7\n",
      "Wrote input for Map #8\n",
      "Wrote input for Map #9\n",
      "Wrote input for Map #10\n",
      "Wrote input for Map #11\n",
      "Wrote input for Map #12\n",
      "Wrote input for Map #13\n",
      "Wrote input for Map #14\n",
      "Starting Job\n",
      "2023-11-25 13:07:47 INFO  DefaultNoHARMFailoverProxyProvider:64 - Connecting to ResourceManager at resourcemanager/172.19.0.2:8032\n",
      "2023-11-25 13:07:47 INFO  JobResourceUploader:907 - Disabling Erasure Coding for path: /tmp/hadoop-yarn/staging/root/.staging/job_1700904772621_0001\n",
      "2023-11-25 13:07:47 INFO  FileInputFormat:300 - Total input files to process : 15\n",
      "2023-11-25 13:07:47 INFO  JobSubmitter:202 - number of splits:15\n",
      "2023-11-25 13:07:47 INFO  JobSubmitter:298 - Submitting tokens for job: job_1700904772621_0001\n",
      "2023-11-25 13:07:47 INFO  JobSubmitter:299 - Executing with tokens: []\n",
      "2023-11-25 13:07:48 INFO  Configuration:2854 - resource-types.xml not found\n",
      "2023-11-25 13:07:48 INFO  ResourceUtils:476 - Unable to find 'resource-types.xml'.\n",
      "2023-11-25 13:07:48 INFO  YarnClientImpl:338 - Submitted application application_1700904772621_0001\n",
      "2023-11-25 13:07:48 INFO  Job:1682 - The url to track the job: http://resourcemanager:8088/proxy/application_1700904772621_0001/\n",
      "2023-11-25 13:07:48 INFO  Job:1727 - Running job: job_1700904772621_0001\n",
      "2023-11-25 13:07:57 INFO  Job:1748 - Job job_1700904772621_0001 running in uber mode : false\n",
      "2023-11-25 13:07:57 INFO  Job:1755 -  map 0% reduce 0%\n"
     ]
    },
    {
     "name": "stderr",
     "output_type": "stream",
     "text": [
      "IOStream.flush timed out\n"
     ]
    },
    {
     "name": "stdout",
     "output_type": "stream",
     "text": [
      "2023-11-25 13:10:09 INFO  Job:1755 -  map 7% reduce 0%\n",
      "2023-11-25 13:10:11 INFO  Job:1755 -  map 20% reduce 0%\n",
      "2023-11-25 13:10:28 INFO  Job:1755 -  map 40% reduce 0%\n",
      "2023-11-25 13:10:36 INFO  Job:1755 -  map 53% reduce 0%\n",
      "2023-11-25 13:10:42 INFO  Job:1755 -  map 67% reduce 0%\n",
      "2023-11-25 13:10:47 INFO  Job:1755 -  map 67% reduce 22%\n",
      "2023-11-25 13:10:48 INFO  Job:1755 -  map 80% reduce 22%\n",
      "2023-11-25 13:10:53 INFO  Job:1755 -  map 80% reduce 27%\n",
      "2023-11-25 13:10:55 INFO  Job:1755 -  map 93% reduce 27%\n",
      "2023-11-25 13:10:59 INFO  Job:1755 -  map 93% reduce 31%\n",
      "2023-11-25 13:11:00 INFO  Job:1755 -  map 100% reduce 31%\n",
      "2023-11-25 13:11:01 INFO  Job:1755 -  map 100% reduce 100%\n",
      "2023-11-25 13:11:01 INFO  Job:1766 - Job job_1700904772621_0001 completed successfully\n",
      "2023-11-25 13:11:01 INFO  Job:1773 - Counters: 54\n",
      "\tFile System Counters\n",
      "\t\tFILE: Number of bytes read=336\n",
      "\t\tFILE: Number of bytes written=4460994\n",
      "\t\tFILE: Number of read operations=0\n",
      "\t\tFILE: Number of large read operations=0\n",
      "\t\tFILE: Number of write operations=0\n",
      "\t\tHDFS: Number of bytes read=3860\n",
      "\t\tHDFS: Number of bytes written=215\n",
      "\t\tHDFS: Number of read operations=65\n",
      "\t\tHDFS: Number of large read operations=0\n",
      "\t\tHDFS: Number of write operations=3\n",
      "\t\tHDFS: Number of bytes read erasure-coded=0\n",
      "\tJob Counters \n",
      "\t\tLaunched map tasks=15\n",
      "\t\tLaunched reduce tasks=1\n",
      "\t\tRack-local map tasks=15\n",
      "\t\tTotal time spent by all maps in occupied slots (ms)=909112\n",
      "\t\tTotal time spent by all reduces in occupied slots (ms)=61096\n",
      "\t\tTotal time spent by all map tasks (ms)=454556\n",
      "\t\tTotal time spent by all reduce tasks (ms)=30548\n",
      "\t\tTotal vcore-milliseconds taken by all map tasks=454556\n",
      "\t\tTotal vcore-milliseconds taken by all reduce tasks=30548\n",
      "\t\tTotal megabyte-milliseconds taken by all map tasks=465465344\n",
      "\t\tTotal megabyte-milliseconds taken by all reduce tasks=31281152\n",
      "\tMap-Reduce Framework\n",
      "\t\tMap input records=15\n",
      "\t\tMap output records=30\n",
      "\t\tMap output bytes=270\n",
      "\t\tMap output materialized bytes=420\n",
      "\t\tInput split bytes=2090\n",
      "\t\tCombine input records=0\n",
      "\t\tCombine output records=0\n",
      "\t\tReduce input groups=2\n",
      "\t\tReduce shuffle bytes=420\n",
      "\t\tReduce input records=30\n",
      "\t\tReduce output records=0\n",
      "\t\tSpilled Records=60\n",
      "\t\tShuffled Maps =15\n",
      "\t\tFailed Shuffles=0\n",
      "\t\tMerged Map outputs=15\n",
      "\t\tGC time elapsed (ms)=1920\n",
      "\t\tCPU time spent (ms)=15270\n",
      "\t\tPhysical memory (bytes) snapshot=4290846720\n",
      "\t\tVirtual memory (bytes) snapshot=40689573888\n",
      "\t\tTotal committed heap usage (bytes)=3978297344\n",
      "\t\tPeak Map Physical memory (bytes)=306769920\n",
      "\t\tPeak Map Virtual memory (bytes)=2546085888\n",
      "\t\tPeak Reduce Physical memory (bytes)=198807552\n",
      "\t\tPeak Reduce Virtual memory (bytes)=2550415360\n",
      "\tShuffle Errors\n",
      "\t\tBAD_ID=0\n",
      "\t\tCONNECTION=0\n",
      "\t\tIO_ERROR=0\n",
      "\t\tWRONG_LENGTH=0\n",
      "\t\tWRONG_MAP=0\n",
      "\t\tWRONG_REDUCE=0\n",
      "\tFile Input Format Counters \n",
      "\t\tBytes Read=1770\n",
      "\tFile Output Format Counters \n",
      "\t\tBytes Written=97\n",
      "Job Finished in 194.668 seconds\n",
      "Estimated value of Pi is 3.14162962962962962963\n"
     ]
    }
   ],
   "source": [
    "!hadoop jar /opt/hadoop/share/hadoop/mapreduce/hadoop-mapreduce-examples-3.3.6.jar pi 15 1800"
   ]
  },
  {
   "cell_type": "code",
   "execution_count": 9,
   "id": "7df9fca2-9a3b-4f4e-9d2c-2a4678c0b055",
   "metadata": {},
   "outputs": [
    {
     "name": "stdout",
     "output_type": "stream",
     "text": [
      "cp: cannot create regular file '../notebooks/block_2_notebook.ipynb': No such file or directory\n"
     ]
    }
   ],
   "source": [
    "!cp block_2_notebook.ipynb ../notebooks/block_2_notebook.ipynb"
   ]
  },
  {
   "cell_type": "code",
   "execution_count": null,
   "id": "0e2fc5a4-7975-48c8-b1ec-d1b7927b7e23",
   "metadata": {},
   "outputs": [],
   "source": []
  }
 ],
 "metadata": {
  "kernelspec": {
   "display_name": "Python 3 (ipykernel)",
   "language": "python",
   "name": "python3"
  },
  "language_info": {
   "codemirror_mode": {
    "name": "ipython",
    "version": 3
   },
   "file_extension": ".py",
   "mimetype": "text/x-python",
   "name": "python",
   "nbconvert_exporter": "python",
   "pygments_lexer": "ipython3",
   "version": "3.10.12"
  }
 },
 "nbformat": 4,
 "nbformat_minor": 5
}
